{
 "cells": [
  {
   "cell_type": "code",
   "execution_count": 1,
   "metadata": {
    "_cell_guid": "b1076dfc-b9ad-4769-8c92-a6c4dae69d19",
    "_uuid": "8f2839f25d086af736a60e9eeb907d3b93b6e0e5"
   },
   "outputs": [
    {
     "name": "stderr",
     "output_type": "stream",
     "text": [
      "Using TensorFlow backend.\n"
     ]
    },
    {
     "name": "stdout",
     "output_type": "stream",
     "text": [
      "/kaggle/input/Kannada-MNIST/Dig-MNIST.csv\n",
      "/kaggle/input/Kannada-MNIST/train.csv\n",
      "/kaggle/input/Kannada-MNIST/sample_submission.csv\n",
      "/kaggle/input/Kannada-MNIST/test.csv\n"
     ]
    }
   ],
   "source": [
    "%matplotlib inline\n",
    "from keras.models import Sequential, load_model\n",
    "from keras import regularizers\n",
    "from keras.preprocessing.image import ImageDataGenerator\n",
    "from keras.layers.convolutional import Conv2D, MaxPooling2D\n",
    "from keras.layers.normalization import BatchNormalization\n",
    "from keras.layers import LeakyReLU\n",
    "from tensorflow.keras.optimizers import RMSprop\n",
    "from tensorflow.keras.callbacks import LearningRateScheduler\n",
    "from keras.callbacks import ModelCheckpoint,History,EarlyStopping,LearningRateScheduler\n",
    "from tensorflow.keras.callbacks import ReduceLROnPlateau, EarlyStopping\n",
    "from keras.layers.core import Dense, Dropout, Activation, Flatten\n",
    "from keras.optimizers import Adam, Adadelta, RMSprop\n",
    "import matplotlib.pyplot as plt\n",
    "import numpy as np\n",
    "import pandas as pd\n",
    "import seaborn as sns\n",
    "\n",
    "import os\n",
    "for dirname, _, filenames in os.walk('/kaggle/input'):\n",
    "    for filename in filenames:\n",
    "        print(os.path.join(dirname, filename))\n",
    "        \n",
    "# For adding new activation function\n",
    "from keras import backend as K\n",
    "from keras.utils.generic_utils import get_custom_objects\n",
    "\n",
    "sns.set(style='white', context='notebook', palette='deep')"
   ]
  },
  {
   "cell_type": "code",
   "execution_count": 2,
   "metadata": {},
   "outputs": [
    {
     "name": "stdout",
     "output_type": "stream",
     "text": [
      "(60000, 785)\n"
     ]
    }
   ],
   "source": [
    "data = pd.read_csv('/kaggle/input/Kannada-MNIST/train.csv')\n",
    "print(data.shape)"
   ]
  },
  {
   "cell_type": "code",
   "execution_count": 3,
   "metadata": {},
   "outputs": [
    {
     "name": "stdout",
     "output_type": "stream",
     "text": [
      "(5000, 785)\n"
     ]
    }
   ],
   "source": [
    "test_data = pd.read_csv('/kaggle/input/Kannada-MNIST/test.csv')\n",
    "print(test_data.shape)"
   ]
  },
  {
   "cell_type": "markdown",
   "metadata": {},
   "source": [
    "# Divide data into training and validation sets"
   ]
  },
  {
   "cell_type": "code",
   "execution_count": 4,
   "metadata": {},
   "outputs": [
    {
     "name": "stdout",
     "output_type": "stream",
     "text": [
      "train shape: (60000, 785)\n",
      "val shape: (5000, 785)\n",
      "train_label shape: (60000,)\n",
      "val_label shape: (5000,)\n",
      "train_image shape: (60000, 784)\n",
      "val_image shape: (5000, 784)\n",
      "test_image shape: (5000, 784)\n"
     ]
    }
   ],
   "source": [
    "train = data[:]\n",
    "val = data[55000:]\n",
    "train_label = np.float32(train.label)\n",
    "val_label = np.float32(val.label)\n",
    "train_image = np.float32(train[train.columns[1:]])\n",
    "val_image = np.float32(val[val.columns[1:]])\n",
    "test_image = np.float32(test_data[test_data.columns[1:]])\n",
    "print('train shape: %s'%str(train.shape))\n",
    "print('val shape: %s'%str(val.shape))\n",
    "print('train_label shape: %s'%str(train_label.shape))\n",
    "print('val_label shape: %s'%str(val_label.shape))\n",
    "print('train_image shape: %s'%str(train_image.shape))\n",
    "print('val_image shape: %s'%str(val_image.shape))\n",
    "print('test_image shape: %s'%str(test_image.shape))"
   ]
  },
  {
   "cell_type": "markdown",
   "metadata": {},
   "source": [
    "# Data enhancement"
   ]
  },
  {
   "cell_type": "code",
   "execution_count": 5,
   "metadata": {},
   "outputs": [],
   "source": [
    "datagen = ImageDataGenerator(\n",
    "    rotation_range=8,\n",
    "    width_shift_range=0.24,\n",
    "    height_shift_range=0.24,\n",
    "    shear_range = 0.1,\n",
    "    zoom_range = 0.24,\n",
    "    horizontal_flip = False)"
   ]
  },
  {
   "cell_type": "markdown",
   "metadata": {},
   "source": [
    "# One-hot encode"
   ]
  },
  {
   "cell_type": "code",
   "execution_count": 6,
   "metadata": {},
   "outputs": [
    {
     "name": "stdout",
     "output_type": "stream",
     "text": [
      "train_label shape: (60000, 10)\n",
      "val_label shape: (5000, 10)\n"
     ]
    }
   ],
   "source": [
    "# one-hot coding\n",
    "from sklearn.preprocessing import OneHotEncoder\n",
    "\n",
    "encoder = OneHotEncoder(sparse=False,categories='auto')\n",
    "yy = [[0],[1],[2],[3],[4],[5],[6],[7],[8],[9]]\n",
    "encoder.fit(yy)\n",
    "# transform\n",
    "train_label = train_label.reshape(-1,1)\n",
    "val_label = val_label.reshape(-1,1)\n",
    "\n",
    "train_label = encoder.transform(train_label)\n",
    "val_label = encoder.transform(val_label)\n",
    "\n",
    "print('train_label shape: %s'%str(train_label.shape))\n",
    "print('val_label shape: %s'%str(val_label.shape))"
   ]
  },
  {
   "cell_type": "markdown",
   "metadata": {},
   "source": [
    "# Image transform"
   ]
  },
  {
   "cell_type": "code",
   "execution_count": 7,
   "metadata": {},
   "outputs": [
    {
     "data": {
      "image/png": "[encoded data removed]",
      "text/plain": [
       "<Figure size 432x288 with 1 Axes>"
      ]
     },
     "metadata": {
      "needs_background": "light"
     },
     "output_type": "display_data"
    },
    {
     "name": "stdout",
     "output_type": "stream",
     "text": [
      "(784,)\n",
      "train_image shape: (60000, 28, 28, 1)\n",
      "train_image shape: (60000, 28, 28, 1)\n",
      "val_image shape: (5000, 28, 28, 1)\n"
     ]
    }
   ],
   "source": [
    "plt.imshow(train_image[13].reshape(28,28))\n",
    "plt.show()\n",
    "print(train_image[13].shape)\n",
    "\n",
    "train_image = train_image/255.0\n",
    "val_image = val_image/255.0\n",
    "test_image = test_image/255.0\n",
    "\n",
    "train_image = train_image.reshape(train_image.shape[0],28,28,1)\n",
    "val_image = val_image.reshape(val_image.shape[0],28,28,1)\n",
    "test_image = test_image.reshape(test_image.shape[0],28,28,1)\n",
    "print('train_image shape: %s'%str(train_image.shape))\n",
    "\n",
    "print('train_image shape: %s'%str(train_image.shape))\n",
    "print('val_image shape: %s'%str(val_image.shape))"
   ]
  },
  {
   "cell_type": "markdown",
   "metadata": {},
   "source": [
    "# Building the model"
   ]
  },
  {
   "cell_type": "code",
   "execution_count": 8,
   "metadata": {},
   "outputs": [],
   "source": [
    "def swish(x):\n",
    "    return (K.sigmoid(x) * x)\n",
    "\n",
    "get_custom_objects().update({'swish': Activation(swish)})\n"
   ]
  },
  {
   "cell_type": "code",
   "execution_count": 9,
   "metadata": {},
   "outputs": [
    {
     "name": "stdout",
     "output_type": "stream",
     "text": [
      "Model: \"sequential_1\"\n",
      "_________________________________________________________________\n",
      "Layer (type)                 Output Shape              Param #   \n",
      "=================================================================\n",
      "conv2d_1 (Conv2D)            (None, 28, 28, 64)        640       \n",
      "_________________________________________________________________\n",
      "batch_normalization_1 (Batch (None, 28, 28, 64)        256       \n",
      "_________________________________________________________________\n",
      "leaky_re_lu_1 (LeakyReLU)    (None, 28, 28, 64)        0         \n",
      "_________________________________________________________________\n",
      "conv2d_2 (Conv2D)            (None, 28, 28, 64)        36928     \n",
      "_________________________________________________________________\n",
      "batch_normalization_2 (Batch (None, 28, 28, 64)        256       \n",
      "_________________________________________________________________\n",
      "leaky_re_lu_2 (LeakyReLU)    (None, 28, 28, 64)        0         \n",
      "_________________________________________________________________\n",
      "max_pooling2d_1 (MaxPooling2 (None, 14, 14, 64)        0         \n",
      "_________________________________________________________________\n",
      "dropout_1 (Dropout)          (None, 14, 14, 64)        0         \n",
      "_________________________________________________________________\n",
      "conv2d_3 (Conv2D)            (None, 14, 14, 128)       73856     \n",
      "_________________________________________________________________\n",
      "batch_normalization_3 (Batch (None, 14, 14, 128)       512       \n",
      "_________________________________________________________________\n",
      "leaky_re_lu_3 (LeakyReLU)    (None, 14, 14, 128)       0         \n",
      "_________________________________________________________________\n",
      "batch_normalization_4 (Batch (None, 14, 14, 128)       512       \n",
      "_________________________________________________________________\n",
      "leaky_re_lu_4 (LeakyReLU)    (None, 14, 14, 128)       0         \n",
      "_________________________________________________________________\n",
      "conv2d_4 (Conv2D)            (None, 14, 14, 128)       147584    \n",
      "_________________________________________________________________\n",
      "batch_normalization_5 (Batch (None, 14, 14, 128)       512       \n",
      "_________________________________________________________________\n",
      "leaky_re_lu_5 (LeakyReLU)    (None, 14, 14, 128)       0         \n",
      "_________________________________________________________________\n",
      "max_pooling2d_2 (MaxPooling2 (None, 7, 7, 128)         0         \n",
      "_________________________________________________________________\n",
      "dropout_2 (Dropout)          (None, 7, 7, 128)         0         \n",
      "_________________________________________________________________\n",
      "conv2d_5 (Conv2D)            (None, 7, 7, 256)         295168    \n",
      "_________________________________________________________________\n",
      "batch_normalization_6 (Batch (None, 7, 7, 256)         1024      \n",
      "_________________________________________________________________\n",
      "leaky_re_lu_6 (LeakyReLU)    (None, 7, 7, 256)         0         \n",
      "_________________________________________________________________\n",
      "conv2d_6 (Conv2D)            (None, 7, 7, 256)         590080    \n",
      "_________________________________________________________________\n",
      "batch_normalization_7 (Batch (None, 7, 7, 256)         1024      \n",
      "_________________________________________________________________\n",
      "leaky_re_lu_7 (LeakyReLU)    (None, 7, 7, 256)         0         \n",
      "_________________________________________________________________\n",
      "max_pooling2d_3 (MaxPooling2 (None, 3, 3, 256)         0         \n",
      "_________________________________________________________________\n",
      "dropout_3 (Dropout)          (None, 3, 3, 256)         0         \n",
      "_________________________________________________________________\n",
      "flatten_1 (Flatten)          (None, 2304)              0         \n",
      "_________________________________________________________________\n",
      "dense_1 (Dense)              (None, 256)               590080    \n",
      "_________________________________________________________________\n",
      "leaky_re_lu_8 (LeakyReLU)    (None, 256)               0         \n",
      "_________________________________________________________________\n",
      "batch_normalization_8 (Batch (None, 256)               1024      \n",
      "_________________________________________________________________\n",
      "dense_2 (Dense)              (None, 10)                2570      \n",
      "=================================================================\n",
      "Total params: 1,742,026\n",
      "Trainable params: 1,739,466\n",
      "Non-trainable params: 2,560\n",
      "_________________________________________________________________\n"
     ]
    }
   ],
   "source": [
    "model = Sequential()\n",
    "get_custom_objects().update({'swish': Activation(swish )})\n",
    "model.add(Conv2D(64, kernel_size= (3,3), input_shape=(28, 28, 1),padding='same'))\n",
    "\n",
    "model.add(BatchNormalization(momentum=0.5, epsilon=1e-5, gamma_initializer=\"uniform\"))\n",
    "model.add(LeakyReLU(alpha=0.1))\n",
    "model.add(Conv2D(64, kernel_size=(3,3), padding='same', activation='swish'))\n",
    "model.add(BatchNormalization(momentum=0.1, epsilon=1e-5, gamma_initializer=\"uniform\"))\n",
    "model.add(LeakyReLU(alpha=0.1))\n",
    "\n",
    "model.add(MaxPooling2D(pool_size=(2, 2)))\n",
    "model.add(Dropout(0.35))\n",
    "\n",
    "model.add(Conv2D(128, kernel_size =(3,3),padding='same', activation='swish'))\n",
    "model.add(BatchNormalization(momentum=0.2, epsilon=1e-5, gamma_initializer=\"uniform\"))\n",
    "model.add(LeakyReLU(alpha=0.1))\n",
    "model.add(BatchNormalization(momentum=0.1, epsilon=1e-5, gamma_initializer=\"uniform\"))\n",
    "model.add(LeakyReLU(alpha=0.1))\n",
    "model.add(Conv2D(128,(3,3), padding='same', activation='swish' ))\n",
    "model.add(BatchNormalization(momentum=0.1, epsilon=1e-5, gamma_initializer=\"uniform\"))\n",
    "model.add(LeakyReLU(alpha=0.1))\n",
    "\n",
    "model.add(MaxPooling2D(pool_size=(2, 2)))\n",
    "model.add(Dropout(0.35))\n",
    "\n",
    "model.add(Conv2D(256, kernel_size = (3,3), padding='same', activation='swish'))\n",
    "model.add(BatchNormalization(momentum=0.2, epsilon=1e-5, gamma_initializer=\"uniform\"))\n",
    "model.add(LeakyReLU(alpha=0.1))\n",
    "model.add(Conv2D(256, kernel_size= (3,3) ,padding='same', activation='swish'))\n",
    "model.add(BatchNormalization(momentum=0.1, epsilon=1e-5, gamma_initializer=\"uniform\"))\n",
    "model.add(LeakyReLU(alpha=0.1))\n",
    "\n",
    "model.add(MaxPooling2D(pool_size=(2, 2)))\n",
    "model.add(Dropout(0.35))\n",
    "\n",
    "model.add(Flatten())\n",
    "model.add(Dense(256))\n",
    "model.add(LeakyReLU(alpha=0.1))\n",
    "model.add(BatchNormalization())\n",
    "model.add(Dense(10, activation='softmax'))\n",
    "\n",
    "model.summary()"
   ]
  },
  {
   "cell_type": "code",
   "execution_count": 10,
   "metadata": {},
   "outputs": [],
   "source": [
    "BATCH_SIZE = 2048\n",
    "EPOCHS = 75"
   ]
  },
  {
   "cell_type": "markdown",
   "metadata": {},
   "source": [
    "# Training"
   ]
  },
  {
   "cell_type": "code",
   "execution_count": 11,
   "metadata": {},
   "outputs": [],
   "source": [
    "initial_learningrate= 2e-3\n",
    "\n",
    "\n",
    "def lr_decay(epoch):#lrv\n",
    "    return initial_learningrate * 0.96 ** epoch"
   ]
  },
  {
   "cell_type": "code",
   "execution_count": 12,
   "metadata": {},
   "outputs": [],
   "source": [
    "es = EarlyStopping(monitor='val_loss',mode='min',verbose=1,patience=8)\n",
    "lr_reduction = ReduceLROnPlateau(monitor='val_loss',patience=5,verbose=1,factor=0.2)"
   ]
  },
  {
   "cell_type": "code",
   "execution_count": 13,
   "metadata": {
    "scrolled": true
   },
   "outputs": [
    {
     "name": "stdout",
     "output_type": "stream",
     "text": [
      "Epoch 1/75\n",
      " - 27s - loss: 1.2196 - accuracy: 0.5865 - val_loss: 1.7134 - val_accuracy: 0.7264\n",
      "Epoch 2/75\n",
      " - 20s - loss: 0.2446 - accuracy: 0.9217 - val_loss: 1.3109 - val_accuracy: 0.8622\n",
      "Epoch 3/75\n",
      " - 20s - loss: 0.1447 - accuracy: 0.9537 - val_loss: 1.0145 - val_accuracy: 0.9724\n",
      "Epoch 4/75\n",
      " - 21s - loss: 0.0887 - accuracy: 0.9725 - val_loss: 0.7031 - val_accuracy: 0.8904\n",
      "Epoch 5/75\n",
      " - 21s - loss: 0.0769 - accuracy: 0.9759 - val_loss: 0.3363 - val_accuracy: 0.9950\n",
      "Epoch 6/75\n",
      " - 20s - loss: 0.0626 - accuracy: 0.9795 - val_loss: 0.2590 - val_accuracy: 0.9546\n",
      "Epoch 7/75\n",
      " - 20s - loss: 0.0525 - accuracy: 0.9832 - val_loss: 0.1710 - val_accuracy: 0.9962\n",
      "Epoch 8/75\n",
      " - 21s - loss: 0.0483 - accuracy: 0.9844 - val_loss: 0.1627 - val_accuracy: 0.9384\n",
      "Epoch 9/75\n",
      " - 21s - loss: 0.0443 - accuracy: 0.9858 - val_loss: 0.0559 - val_accuracy: 0.9950\n",
      "Epoch 10/75\n",
      " - 20s - loss: 0.0408 - accuracy: 0.9870 - val_loss: 0.0391 - val_accuracy: 0.9956\n",
      "Epoch 11/75\n",
      " - 21s - loss: 0.0373 - accuracy: 0.9881 - val_loss: 0.0102 - val_accuracy: 0.9984\n",
      "Epoch 12/75\n",
      " - 20s - loss: 0.0368 - accuracy: 0.9882 - val_loss: 0.0089 - val_accuracy: 0.9982\n",
      "Epoch 13/75\n",
      " - 21s - loss: 0.0343 - accuracy: 0.9893 - val_loss: 0.0061 - val_accuracy: 0.9988\n",
      "Epoch 14/75\n",
      " - 21s - loss: 0.0312 - accuracy: 0.9895 - val_loss: 0.0038 - val_accuracy: 0.9990\n",
      "Epoch 15/75\n",
      " - 21s - loss: 0.0307 - accuracy: 0.9897 - val_loss: 0.0042 - val_accuracy: 0.9986\n",
      "Epoch 16/75\n",
      " - 21s - loss: 0.0310 - accuracy: 0.9900 - val_loss: 0.0417 - val_accuracy: 0.9876\n",
      "Epoch 17/75\n",
      " - 21s - loss: 0.0287 - accuracy: 0.9906 - val_loss: 0.0066 - val_accuracy: 0.9986\n",
      "Epoch 18/75\n",
      " - 20s - loss: 0.0284 - accuracy: 0.9908 - val_loss: 0.0035 - val_accuracy: 0.9988\n",
      "Epoch 19/75\n",
      " - 21s - loss: 0.0261 - accuracy: 0.9916 - val_loss: 0.0034 - val_accuracy: 0.9992\n",
      "Epoch 20/75\n",
      " - 21s - loss: 0.0288 - accuracy: 0.9906 - val_loss: 0.0029 - val_accuracy: 0.9992\n",
      "Epoch 21/75\n",
      " - 21s - loss: 0.0254 - accuracy: 0.9916 - val_loss: 0.0028 - val_accuracy: 0.9990\n",
      "Epoch 22/75\n",
      " - 21s - loss: 0.0242 - accuracy: 0.9919 - val_loss: 0.0030 - val_accuracy: 0.9988\n",
      "Epoch 23/75\n",
      " - 20s - loss: 0.0251 - accuracy: 0.9918 - val_loss: 0.0034 - val_accuracy: 0.9990\n",
      "Epoch 24/75\n",
      " - 21s - loss: 0.0253 - accuracy: 0.9918 - val_loss: 0.0028 - val_accuracy: 0.9990\n",
      "Epoch 25/75\n",
      " - 22s - loss: 0.0223 - accuracy: 0.9924 - val_loss: 0.0040 - val_accuracy: 0.9988\n",
      "Epoch 26/75\n",
      " - 21s - loss: 0.0210 - accuracy: 0.9929 - val_loss: 0.0041 - val_accuracy: 0.9990\n",
      "Epoch 27/75\n",
      " - 21s - loss: 0.0234 - accuracy: 0.9928 - val_loss: 0.0021 - val_accuracy: 0.9992\n",
      "Epoch 28/75\n",
      " - 21s - loss: 0.0225 - accuracy: 0.9928 - val_loss: 0.0039 - val_accuracy: 0.9986\n",
      "Epoch 29/75\n",
      " - 21s - loss: 0.0218 - accuracy: 0.9926 - val_loss: 0.0041 - val_accuracy: 0.9984\n",
      "Epoch 30/75\n",
      " - 21s - loss: 0.0209 - accuracy: 0.9933 - val_loss: 0.0014 - val_accuracy: 0.9996\n",
      "Epoch 31/75\n",
      " - 20s - loss: 0.0201 - accuracy: 0.9933 - val_loss: 0.0021 - val_accuracy: 0.9992\n",
      "Epoch 32/75\n",
      " - 21s - loss: 0.0205 - accuracy: 0.9931 - val_loss: 0.0020 - val_accuracy: 0.9992\n",
      "Epoch 33/75\n",
      " - 21s - loss: 0.0201 - accuracy: 0.9934 - val_loss: 0.0026 - val_accuracy: 0.9990\n",
      "Epoch 34/75\n",
      " - 21s - loss: 0.0206 - accuracy: 0.9934 - val_loss: 0.0016 - val_accuracy: 0.9996\n",
      "Epoch 35/75\n",
      " - 20s - loss: 0.0190 - accuracy: 0.9936 - val_loss: 0.0025 - val_accuracy: 0.9994\n",
      "Epoch 36/75\n",
      " - 20s - loss: 0.0188 - accuracy: 0.9938 - val_loss: 0.0014 - val_accuracy: 0.9998\n",
      "Epoch 37/75\n",
      " - 21s - loss: 0.0197 - accuracy: 0.9938 - val_loss: 0.0017 - val_accuracy: 0.9998\n",
      "Epoch 38/75\n",
      " - 21s - loss: 0.0180 - accuracy: 0.9940 - val_loss: 0.0021 - val_accuracy: 0.9994\n",
      "Epoch 39/75\n",
      " - 20s - loss: 0.0184 - accuracy: 0.9940 - val_loss: 7.0594e-04 - val_accuracy: 0.9998\n",
      "Epoch 40/75\n",
      " - 20s - loss: 0.0179 - accuracy: 0.9941 - val_loss: 0.0018 - val_accuracy: 0.9996\n",
      "Epoch 41/75\n",
      " - 20s - loss: 0.0172 - accuracy: 0.9942 - val_loss: 0.0018 - val_accuracy: 0.9994\n",
      "Epoch 42/75\n",
      " - 20s - loss: 0.0167 - accuracy: 0.9945 - val_loss: 0.0023 - val_accuracy: 0.9992\n",
      "Epoch 43/75\n",
      " - 20s - loss: 0.0166 - accuracy: 0.9946 - val_loss: 0.0034 - val_accuracy: 0.9988\n",
      "Epoch 44/75\n",
      " - 20s - loss: 0.0156 - accuracy: 0.9949 - val_loss: 0.0027 - val_accuracy: 0.9992\n",
      "Epoch 45/75\n",
      " - 21s - loss: 0.0163 - accuracy: 0.9944 - val_loss: 0.0021 - val_accuracy: 0.9996\n",
      "Epoch 46/75\n",
      " - 20s - loss: 0.0177 - accuracy: 0.9942 - val_loss: 0.0024 - val_accuracy: 0.9992\n",
      "Epoch 47/75\n",
      " - 20s - loss: 0.0168 - accuracy: 0.9946 - val_loss: 0.0014 - val_accuracy: 0.9994\n",
      "Epoch 48/75\n",
      " - 20s - loss: 0.0164 - accuracy: 0.9943 - val_loss: 0.0015 - val_accuracy: 0.9994\n",
      "Epoch 49/75\n",
      " - 20s - loss: 0.0162 - accuracy: 0.9949 - val_loss: 9.1252e-04 - val_accuracy: 0.9998\n",
      "Epoch 50/75\n",
      " - 20s - loss: 0.0161 - accuracy: 0.9948 - val_loss: 0.0010 - val_accuracy: 0.9996\n",
      "Epoch 51/75\n",
      " - 20s - loss: 0.0146 - accuracy: 0.9952 - val_loss: 0.0018 - val_accuracy: 0.9996\n",
      "Epoch 52/75\n",
      " - 20s - loss: 0.0148 - accuracy: 0.9953 - val_loss: 0.0018 - val_accuracy: 0.9996\n",
      "Epoch 53/75\n",
      " - 21s - loss: 0.0141 - accuracy: 0.9952 - val_loss: 0.0013 - val_accuracy: 0.9996\n",
      "Epoch 54/75\n",
      " - 21s - loss: 0.0153 - accuracy: 0.9952 - val_loss: 0.0023 - val_accuracy: 0.9990\n",
      "Epoch 55/75\n",
      " - 20s - loss: 0.0162 - accuracy: 0.9943 - val_loss: 0.0018 - val_accuracy: 0.9996\n",
      "Epoch 56/75\n",
      " - 20s - loss: 0.0147 - accuracy: 0.9953 - val_loss: 0.0015 - val_accuracy: 0.9994\n",
      "Epoch 57/75\n",
      " - 21s - loss: 0.0144 - accuracy: 0.9947 - val_loss: 0.0014 - val_accuracy: 0.9998\n",
      "Epoch 58/75\n",
      " - 20s - loss: 0.0144 - accuracy: 0.9952 - val_loss: 0.0018 - val_accuracy: 0.9996\n",
      "Epoch 59/75\n",
      " - 20s - loss: 0.0153 - accuracy: 0.9948 - val_loss: 0.0012 - val_accuracy: 0.9996\n",
      "Epoch 60/75\n",
      " - 21s - loss: 0.0147 - accuracy: 0.9951 - val_loss: 0.0016 - val_accuracy: 0.9994\n",
      "Epoch 61/75\n",
      " - 20s - loss: 0.0142 - accuracy: 0.9955 - val_loss: 0.0013 - val_accuracy: 0.9998\n",
      "Epoch 62/75\n",
      " - 20s - loss: 0.0142 - accuracy: 0.9951 - val_loss: 0.0012 - val_accuracy: 0.9998\n",
      "Epoch 63/75\n",
      " - 20s - loss: 0.0150 - accuracy: 0.9951 - val_loss: 0.0013 - val_accuracy: 0.9998\n",
      "Epoch 64/75\n",
      " - 20s - loss: 0.0137 - accuracy: 0.9954 - val_loss: 0.0012 - val_accuracy: 0.9996\n",
      "Epoch 65/75\n",
      " - 20s - loss: 0.0145 - accuracy: 0.9950 - val_loss: 9.7851e-04 - val_accuracy: 0.9996\n",
      "Epoch 66/75\n",
      " - 20s - loss: 0.0147 - accuracy: 0.9950 - val_loss: 0.0015 - val_accuracy: 0.9996\n",
      "Epoch 67/75\n",
      " - 20s - loss: 0.0140 - accuracy: 0.9953 - val_loss: 0.0010 - val_accuracy: 0.9996\n",
      "Epoch 68/75\n",
      " - 20s - loss: 0.0141 - accuracy: 0.9953 - val_loss: 0.0012 - val_accuracy: 0.9996\n",
      "Epoch 69/75\n",
      " - 20s - loss: 0.0150 - accuracy: 0.9949 - val_loss: 0.0012 - val_accuracy: 0.9996\n",
      "Epoch 70/75\n",
      " - 20s - loss: 0.0140 - accuracy: 0.9950 - val_loss: 0.0012 - val_accuracy: 0.9996\n",
      "Epoch 71/75\n",
      " - 20s - loss: 0.0136 - accuracy: 0.9953 - val_loss: 0.0015 - val_accuracy: 0.9996\n",
      "Epoch 72/75\n",
      " - 20s - loss: 0.0155 - accuracy: 0.9952 - val_loss: 0.0017 - val_accuracy: 0.9996\n",
      "Epoch 73/75\n",
      " - 20s - loss: 0.0144 - accuracy: 0.9953 - val_loss: 0.0014 - val_accuracy: 0.9996\n",
      "Epoch 74/75\n",
      " - 20s - loss: 0.0150 - accuracy: 0.9947 - val_loss: 0.0011 - val_accuracy: 0.9998\n",
      "Epoch 75/75\n",
      " - 21s - loss: 0.0139 - accuracy: 0.9955 - val_loss: 0.0012 - val_accuracy: 0.9998\n"
     ]
    }
   ],
   "source": [
    "model.compile(loss='categorical_crossentropy',\n",
    "              optimizer=RMSprop(lr=initial_learningrate),\n",
    "              metrics=['accuracy'])\n",
    "\n",
    "\n",
    "history = model.fit_generator(datagen.flow(train_image,train_label, batch_size=BATCH_SIZE),\n",
    "    epochs = EPOCHS,validation_data = (val_image,val_label),\n",
    "    callbacks=[LearningRateScheduler(lr_decay)],\n",
    "      verbose=2)"
   ]
  },
  {
   "cell_type": "markdown",
   "metadata": {},
   "source": [
    "# Visualization"
   ]
  },
  {
   "cell_type": "code",
   "execution_count": 14,
   "metadata": {},
   "outputs": [
    {
     "data": {
      "image/png": "[encoded data removed]",
      "text/plain": [
       "<Figure size 432x288 with 1 Axes>"
      ]
     },
     "metadata": {
      "needs_background": "light"
     },
     "output_type": "display_data"
    },
    {
     "data": {
      "image/png": "[encoded data removed]",
      "text/plain": [
       "<Figure size 432x288 with 1 Axes>"
      ]
     },
     "metadata": {
      "needs_background": "light"
     },
     "output_type": "display_data"
    }
   ],
   "source": [
    "\n",
    "plt.plot(history.history['accuracy'])\n",
    "plt.plot(history.history['val_accuracy'])\n",
    "plt.title('Model accuracy')\n",
    "plt.ylabel('Accuracy')\n",
    "plt.xlabel('Epoch')\n",
    "plt.legend(['Train', 'Test'], loc='upper left')\n",
    "plt.show()\n",
    "\n",
    "plt.plot(history.history['loss'])\n",
    "plt.plot(history.history['val_loss'])\n",
    "plt.title('Model loss')\n",
    "plt.ylabel('Loss')\n",
    "plt.xlabel('Epoch')\n",
    "plt.legend(['Train', 'Test'], loc='upper left')\n",
    "plt.show()"
   ]
  },
  {
   "cell_type": "code",
   "execution_count": 15,
   "metadata": {},
   "outputs": [],
   "source": [
    "test_label = model.predict(test_image)\n",
    "# label = np.argmax(label_hot,1)\n",
    "# id_ = np.arange(0,label.shape[0])"
   ]
  },
  {
   "cell_type": "code",
   "execution_count": 16,
   "metadata": {},
   "outputs": [],
   "source": [
    "label_hot = model.predict(test_image)\n",
    "label = np.argmax(label_hot,1)\n",
    "id_ = np.arange(0,label.shape[0])"
   ]
  },
  {
   "cell_type": "code",
   "execution_count": 17,
   "metadata": {},
   "outputs": [
    {
     "name": "stdout",
     "output_type": "stream",
     "text": [
      "   id  label\n",
      "0   0      5\n",
      "1   1      5\n",
      "2   2      5\n",
      "3   3      5\n",
      "4   4      5\n",
      "5   5      5\n",
      "6   6      5\n",
      "7   7      5\n",
      "8   8      5\n",
      "9   9      5\n"
     ]
    }
   ],
   "source": [
    "sim = pd.read_csv('/kaggle/input/Kannada-MNIST/sample_submission.csv')\n",
    "print(sim.head(10))"
   ]
  },
  {
   "cell_type": "code",
   "execution_count": 18,
   "metadata": {},
   "outputs": [
    {
     "name": "stdout",
     "output_type": "stream",
     "text": [
      "   id  label\n",
      "0   0      3\n",
      "1   1      0\n",
      "2   2      2\n",
      "3   3      6\n",
      "4   4      7\n",
      "5   5      7\n",
      "6   6      1\n",
      "7   7      9\n",
      "8   8      3\n",
      "9   9      4\n"
     ]
    }
   ],
   "source": [
    "save = pd.DataFrame({'id':id_,'label':label})\n",
    "print(save.head(10))\n",
    "save.to_csv('submission.csv',index=False)"
   ]
  }
 ],
 "metadata": {
  "kernelspec": {
   "display_name": "Python 3",
   "language": "python",
   "name": "python3"
  },
  "language_info": {
   "codemirror_mode": {
    "name": "ipython",
    "version": 3
   },
   "file_extension": ".py",
   "mimetype": "text/x-python",
   "name": "python",
   "nbconvert_exporter": "python",
   "pygments_lexer": "ipython3",
   "version": "3.6.6"
  }
 },
 "nbformat": 4,
 "nbformat_minor": 1
}
